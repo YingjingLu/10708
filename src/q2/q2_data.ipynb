{
 "cells": [
  {
   "cell_type": "code",
   "execution_count": 13,
   "metadata": {
    "collapsed": true
   },
   "outputs": [],
   "source": [
    "import scipy.io as sio\n",
    "import numpy as np\n",
    "import matplotlib.pyplot as plt"
   ]
  },
  {
   "cell_type": "code",
   "execution_count": 14,
   "metadata": {
    "collapsed": true
   },
   "outputs": [],
   "source": [
    "# Module\n",
    "\n",
    "\n",
    "class CRFOCR(object):\n",
    "    def __init__(self, img_width, img_height, _lambda ):\n",
    "        self.img_width = img_width\n",
    "        self.img_height = img_height\n",
    "        self._lambda = _lambda\n",
    "\n",
    "        # f_C the pobability for a character for a hidden state\n",
    "        self.theta_C = np.zeros(26, dtype = np.float64)\n",
    "        # f_I the probability for a pixel on a single state\n",
    "        self.theta_I = np.zeros((2, 26, img_width*img_height), dtype = np.float64)\n",
    "        # f_P the probability for adjacent pair operation\n",
    "        self.theta_P = np.zeros((26,26), dtype = np.float64)\n",
    "\n",
    "        print(\"init theta I as \", self.theta_I.shape)\n",
    "\n",
    "    def calc_single_sum_theta_C(self, Y):\n",
    "\n",
    "        return self.theta_C[Y]\n",
    "\n",
    "    def calc_sum_theta_C(self, Y_arr):\n",
    "        total_sum = 0\n",
    "        for elem in Y_arr:\n",
    "            total_sum += self.calc_single_sum_theta_C(elem)\n",
    "\n",
    "        return total_sum\n",
    "\n",
    "    def calc_single_sum_theta_I(self, x, Y):\n",
    "\n",
    "        _sum = 0\n",
    "        sub_x = self.theta_I[0,Y,:]\n",
    "        # print(sub_x)\n",
    "        mask = (x == 1)\n",
    "        # print(mask)\n",
    "        _sum += np.sum(sub_x[mask])\n",
    "\n",
    "        # calculate those on 2 channel\n",
    "        sub_x = self.theta_I[1,Y,:]\n",
    "        mask = (x == 2)\n",
    "        _sum += np.sum(sub_x[mask])\n",
    "        return _sum\n",
    "        \n",
    "\n",
    "    def calc_sum_theta_I(self, X, Y_arr):\n",
    "        total_sum = 0\n",
    "        for i in range(X.shape[0]):\n",
    "            elem_X = X[i,:]\n",
    "            for elem_Y in Y_arr:\n",
    "                total_sum += self.calc_single_sum_theta_I(elem_X, elem_Y)\n",
    "\n",
    "        return total_sum \n",
    "\n",
    "    def calc_single_sum_theta_P(self, Y_pair):\n",
    "        y1, y2 = Y_pair\n",
    "\n",
    "        return self.theta_P[y1,y1]\n",
    "\n",
    "    def calc_sum_theta_P(self, Y):\n",
    "        num_y = Y.shape[0]\n",
    "        if num_y<2:\n",
    "            return 0\n",
    "\n",
    "        total_sum = 0\n",
    "        for i in range(num_y - 1):\n",
    "            Y_pair = (Y[i], Y[i+ 1])\n",
    "            total_sum += self.calc_single_sum_theta_P(Y_pair)\n",
    "        return total_sum\n",
    "\n",
    "    def calc_z(self, x):\n",
    "\n",
    "        total_sum = 0\n",
    "        for y1 in range(26):\n",
    "            for y2 in range(26):\n",
    "                for y3 in range(26):\n",
    "                    y = np.array([y1, y2, y3])\n",
    "                    total_sum += np.exp(self.calc_var_sum(x, y))\n",
    "        return total_sum\n",
    "\n",
    "\n",
    "    def calc_var_sum(self, x, y):\n",
    "        total_sum = 0\n",
    "        for i in range(y.shape[0]):\n",
    "            y1 = y[i]\n",
    "            x1 = x[i,:]\n",
    "            total_sum += self.calc_single_sum_theta_I(x1,y1)\n",
    "            total_sum += self.calc_single_sum_theta_C(y1)\n",
    "            if i < y.shape[0] -1:\n",
    "                y2 = y[i+1]\n",
    "                total_sum += self.calc_single_sum_theta_P((y1,y2))\n",
    "        return total_sum\n",
    "\n",
    "    def calc_theta_e(self, x):\n",
    "        \"\"\"\n",
    "         - x: 3 * 32\n",
    "        \"\"\"\n",
    "        z = self.calc_z(x)\n",
    "        delta_theta_C = np.zeros(26, dtype = np.float64)\n",
    "        delta_theta_I = np.zeros((2, 26, self.img_height*self.img_width), dtype = np.float64)\n",
    "        delta_theta_P = np.zeros((26, 26), dtype = np.float64)\n",
    "\n",
    "        for y1 in range(26):\n",
    "            for y2 in range(26):\n",
    "                for y3 in range(26):\n",
    "                    y = np.array([y1, y2, y3])\n",
    "                    cond_prob = np.exp(self.calc_var_sum(x, y))/z\n",
    "                    # print(\"Cnd Prob: \", cond_prob)\n",
    "                    for i in range(y.shape[0]):\n",
    "\n",
    "                        # theta_C\n",
    "                        delta_theta_C[y[i]] += cond_prob\n",
    "\n",
    "                        # theta_I layer 1\n",
    "                        mask = x[i,:]\n",
    "                        mask = (mask == 1) * cond_prob \n",
    "                        delta_theta_I[0,y[i],:] += mask\n",
    "\n",
    "                        # theta_I layer 2\n",
    "                        mask = x[i,:]\n",
    "                        mask = (mask == 2) * cond_prob \n",
    "                        delta_theta_I[1,y[i],:] += mask\n",
    "\n",
    "                        # theta_P\n",
    "                        if i < (y.shape[0]-1):\n",
    "                            delta_theta_P[y[i], y[i+1]] += cond_prob\n",
    "\n",
    "\n",
    "        return delta_theta_C, delta_theta_I, delta_theta_P\n",
    "    def calc_nll(self, x, y):\n",
    "\n",
    "        \"\"\"\n",
    "        nll = log(Z) - sum( theta * sum(features) ) + lambda*0.5 * theta^2\n",
    "\n",
    "         - x: 3*32 matrix\n",
    "         - y: 1*3 array\n",
    "        \"\"\"\n",
    "        nll = 0\n",
    "\n",
    "        nll += np.log(self.calc_z(x))\n",
    "\n",
    "        nll -= self.calc_var_sum(x,y)\n",
    "\n",
    "        sum_weight = 0\n",
    "        sum_weight += np.sum(np.square(self.theta_P))\n",
    "        sum_weight += np.sum(np.square(self.theta_I))\n",
    "        sum_weight += np.sum(np.square(self.theta_C))\n",
    "        sum_weight *= (self._lambda*0.5)\n",
    "\n",
    "        nll += sum_weight\n",
    "\n",
    "        return nll\n",
    "\n",
    "\n",
    "    def calc_nll_grad(self, x, y):\n",
    "        # print(\"theta_C\", self.theta_C.shape)\n",
    "        # print(\"Theta_I\", self.theta_I.shape)\n",
    "        # print(\"Theta_P\", self.theta_P.shape)\n",
    "        delta_theta_C = np.zeros(26, dtype = np.float64)\n",
    "        delta_theta_I = np.zeros((2, 26, self.img_height*self.img_width), dtype = np.float64)\n",
    "        delta_theta_P = np.zeros((26, 26), dtype = np.float64)\n",
    "        # E theta:\n",
    "        d_c, d_i, d_p = self.calc_theta_e(x)\n",
    "        # E D\n",
    "        for i in range(y.shape[0]):\n",
    "            # calc theta_c\n",
    "            delta_theta_C[y[i]] -= 1\n",
    "            # calc theta_I layer 1\n",
    "            mask = x[i,:]\n",
    "            mask = (mask == 1)\n",
    "            delta_theta_I[0,y[i],:] -= mask\n",
    "\n",
    "            # calc theta_I layer 2\n",
    "            mask = x[i,:]\n",
    "            mask = (mask == 2)\n",
    "            delta_theta_I[1,y[i],:] -= mask\n",
    "\n",
    "            # calc theta_P layer 3\n",
    "            if i < (y.shape[0]-1):\n",
    "                delta_theta_P[y[i], y[i+1]] -= 1\n",
    "\n",
    "        # theta i:\n",
    "        delta_theta_I += (self.theta_I * self._lambda + d_i)\n",
    "        delta_theta_P += (self.theta_P * self._lambda + d_p)\n",
    "        delta_theta_C += (self.theta_C * self._lambda + d_c)\n",
    "\n",
    "        return delta_theta_C, delta_theta_I, delta_theta_P\n",
    "\n",
    "    def eval_sum_loss(self, x_test, y_test):\n",
    "        total_loss = 0\n",
    "        for i in range(x_test.shape[0]):\n",
    "            total_loss += self.calc_nll(x_test[i,:], y_test[i,:])\n",
    "\n",
    "        return total_loss\n",
    "\n",
    "    def SGD(self, x_batch, y_batch,x_test, y_test, _iter = 1, learning_rate = 0.003):\n",
    "        steps = x_batch.shape[0]\n",
    "        loss_list = []\n",
    "        for i in range(_iter):\n",
    "            for step in range(steps):\n",
    "                learning_rate = 1/(1+0.05*step)\n",
    "                delta_theta_C, delta_theta_I, delta_theta_P = self.calc_nll_grad(x_batch[step,:], y_batch[step,:])\n",
    "                self.theta_C -= delta_theta_C * learning_rate\n",
    "                self.theta_I -= delta_theta_I * learning_rate\n",
    "                self.theta_P -= delta_theta_P * learning_rate\n",
    "                nll = self.eval_sum_loss(x_test, y_test) / x_test.shape[0]\n",
    "                loss_list.append(nll)\n",
    "\n",
    "        return loss_list"
   ]
  },
  {
   "cell_type": "markdown",
   "metadata": {},
   "source": [
    "### Setup Dataset: and module"
   ]
  },
  {
   "cell_type": "code",
   "execution_count": 15,
   "metadata": {
    "collapsed": false
   },
   "outputs": [
    {
     "name": "stdout",
     "output_type": "stream",
     "text": [
      "(220, 3, 32)\n",
      "[[1 1 1 2 2 1 1 1 1 1 1 1 2 1 1 1 1 1 1 2 2 1 1 1 1 1 1 2 2 1 1 1]\n",
      " [1 1 1 2 1 1 1 1 1 1 1 2 1 1 1 1 1 1 2 2 2 2 1 1 1 1 2 2 2 1 1 1]\n",
      " [1 1 1 2 2 1 1 1 1 2 2 2 2 2 1 1 1 2 1 1 2 2 2 1 1 2 1 1 2 1 1 1]]\n",
      "(80, 3, 32)\n",
      "[[2 2 2 2 2 2 2 2 2 1 1 1 2 1 1 2 2 1 1 1 2 1 1 2 2 1 1 1 1 1 2 2]\n",
      " [1 1 2 2 2 2 2 1 1 1 2 2 2 2 1 1 1 2 2 1 1 2 2 1 2 2 1 1 1 1 2 2]\n",
      " [2 2 2 1 1 1 1 1 2 1 2 2 2 2 2 2 2 1 1 2 1 1 1 1 2 2 2 2 1 1 1 1]]\n",
      "init theta I as  (2, 26, 32)\n"
     ]
    }
   ],
   "source": [
    "\n",
    "DATASET_DIR = \"q2dataset.mat\"\n",
    "INSTANCE_DIR = \"q2instance.mat\"\n",
    "\n",
    "\n",
    "DATA_SET = sio.loadmat(DATASET_DIR)\n",
    "def split_data(source):\n",
    "    train_x = None\n",
    "    train_y = None\n",
    "    for i in range(source.shape[1]):\n",
    "        raw = list(source[0,i])\n",
    "        x,y = raw[0].reshape(1,3,32), raw[1]\n",
    "        # print(\"x shape: \", x.shape)\n",
    "        if train_x is None:\n",
    "            train_x = x\n",
    "            train_y = y\n",
    "        else:\n",
    "            train_x = np.vstack((train_x, x))\n",
    "            train_y = np.vstack((train_y, y))\n",
    "    print(train_x.shape)\n",
    "    print(train_x[0,:])\n",
    "    return train_x, train_y- 1\n",
    "\n",
    "train_x, train_y = split_data(DATA_SET[\"trainData\"])\n",
    "test_x, test_y = split_data(DATA_SET[\"testData\"])\n",
    "\n",
    "INSTANCES = sio.loadmat(INSTANCE_DIR)\n",
    "\n",
    "SAMPLE_PARAM = INSTANCES[\"sampleModelParams\"]\n",
    "SAMPLE_THETA = INSTANCES[\"sampleTheta\"]\n",
    "SAMPLE_X = INSTANCES[\"sampleX\"]\n",
    "SAMPLE_Y = INSTANCES[\"sampleY\"]\n",
    "\n",
    "# print(\"sample_X\", SAMPLE_X.shape)\n",
    "# print(\"sample y\", SAMPLE_Y.shape)\n",
    "crf = CRFOCR(8,4,0.003)\n",
    "\n",
    "\n",
    "\n"
   ]
  },
  {
   "cell_type": "markdown",
   "metadata": {},
   "source": [
    "### Answer to Instance NLL and Grad Norm:"
   ]
  },
  {
   "cell_type": "code",
   "execution_count": 16,
   "metadata": {
    "collapsed": false
   },
   "outputs": [
    {
     "name": "stdout",
     "output_type": "stream",
     "text": [
      "Nll of the instance 9.77428961406\n",
      "Gradient Norm:  9.62537942079\n"
     ]
    }
   ],
   "source": [
    "print(\"Nll of the instance\",crf.calc_nll(SAMPLE_X, SAMPLE_Y[0,:]))\n",
    "grad_c, grad_i, grad_p = crf.calc_nll_grad(SAMPLE_X, SAMPLE_Y[0,:])\n",
    "\n",
    "grad_c = grad_c.reshape(1, grad_c.shape[0])\n",
    "grad_i = grad_i.reshape(1, 32*26*2)\n",
    "grad_p = grad_p.reshape(1, 26*26)\n",
    "\n",
    "grad = np.hstack((grad_c,grad_p, grad_i))\n",
    "print(\"Gradient Norm: \", np.linalg.norm(grad))"
   ]
  },
  {
   "cell_type": "markdown",
   "metadata": {},
   "source": [
    "### Perform SGD and plot: "
   ]
  },
  {
   "cell_type": "code",
   "execution_count": 17,
   "metadata": {
    "collapsed": false
   },
   "outputs": [],
   "source": [
    "a = crf.SGD(train_x, train_y,test_x[:10,:], test_y)\n",
    "x = [i for i in range(len(a))]\n",
    "plt.plot(x,a)\n",
    "plt.show()"
   ]
  },
  {
   "cell_type": "code",
   "execution_count": 26,
   "metadata": {
    "collapsed": false
   },
   "outputs": [
    {
     "data": {
      "image/png": "[encoded data removed]",
      "text/plain": [
       "<IPython.core.display.Image object>"
      ]
     },
     "metadata": {},
     "output_type": "display_data"
    }
   ],
   "source": [
    "# for some unknown reason it shows on GUI rather than on notebook.\n",
    "# if in doubt, feel free to just run the code\n",
    "from IPython.display import Image, display\n",
    "a = Image(filename = \"figure1.png\")\n",
    "display(a)"
   ]
  },
  {
   "cell_type": "code",
   "execution_count": null,
   "metadata": {
    "collapsed": true
   },
   "outputs": [],
   "source": []
  }
 ],
 "metadata": {
  "kernelspec": {
   "display_name": "Python [py3k]",
   "language": "python",
   "name": "Python [py3k]"
  },
  "language_info": {
   "codemirror_mode": {
    "name": "ipython",
    "version": 3
   },
   "file_extension": ".py",
   "mimetype": "text/x-python",
   "name": "python",
   "nbconvert_exporter": "python",
   "pygments_lexer": "ipython3",
   "version": "3.5.2"
  }
 },
 "nbformat": 4,
 "nbformat_minor": 0
}
