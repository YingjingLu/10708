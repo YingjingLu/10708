{
 "cells": [
  {
   "cell_type": "markdown",
   "metadata": {},
   "source": [
    "# 3.3 Implementation of EM algorithm [17 pts]\n",
    "\n",
    "3.3.1. Requirements and suggestions\n",
    "\n",
    "3.3.2. Some questions"
   ]
  },
  {
   "cell_type": "markdown",
   "metadata": {},
   "source": [
    "## 3.3.1.  Requirements and suggestions\n",
    "\n",
    "In this question, we are going to implement EM algorithm for HME model, following the updating rules derived in part 3.2. Here are some requirements and suggestions for your implementation:\n",
    "\n",
    "### Pad input $\\mathbf{X}$ with $1$\n",
    "\n",
    "To allow bias terms in the model, you should pad $\\mathbf{X}$ with a column with value 1. \n",
    "\n",
    "### IRLS algorithm\n",
    "If you find IRLS algorithm update not stable, i.e. generate singular matrix in the update, you're also allowed to directly use Newton's method, as the IRLS algorithm here is a special case of Newton's method. \n",
    "\n",
    "### Parameter initialization\n",
    "You may explore different ways of parameter initialization, as a suggestion, initialization with uniform distribution Unif(0, 1) for all parameters is fine. \n",
    "\n",
    "### Parameters in the algorithm\n",
    "Set the max iteration as 50 for the main loop. \n",
    "\n",
    "For IRLS algorithm, set max iteration as 5, learning rate $\\lambda$ as 1, using a stopping criterion \n",
    "$$|f^{k+1} - f^{k}| < 1e-6$$\n",
    "where $f$ is the objective function. \n",
    "\n",
    "### The Log Sum Exp trick \n",
    "\n",
    "To reduce numerical error and prevent underflows, you may consider use log-sum-exp trick for the computing of some variables. \n",
    "\n",
    "### Clip some variables\n",
    "In the updating, due to numerical error, some variables, i.e. probabilities, may be very close to 0 or 1, which may make some matrices singular. To avoid this effect, we may need to clip these variables. You may clip them to $[1E{-10}, 1-1E{-10}]$. \n",
    "\n",
    "Hint: you may consider to clip $g_i^{(t)}$, $g_{j|i}^{(t)}$ and $\\mathbb{E}[z^{(t)}_{ij}|\\mathcal{X}]$. \n",
    "\n",
    "### Monitor log-likelihood\n",
    "\n",
    "It is good to monitor the log-likelihood in each iteration, as in EM algorithm, the log-likelihood should keep increasing, which could be a good check of whether the implementation is right. \n",
    "\n",
    "### Program Language\n",
    "\n",
    "You may use either Python or MATLAB in your implementation, as long as you can configure either Python or MATLAB for Jupyter notebook. "
   ]
  },
  {
   "cell_type": "code",
   "execution_count": 1,
   "metadata": {
    "collapsed": false
   },
   "outputs": [],
   "source": [
    "# Implemente your algorithm here\n"
   ]
  },
  {
   "cell_type": "code",
   "execution_count": null,
   "metadata": {
    "collapsed": true
   },
   "outputs": [],
   "source": []
  },
  {
   "cell_type": "code",
   "execution_count": null,
   "metadata": {
    "collapsed": false
   },
   "outputs": [],
   "source": []
  },
  {
   "cell_type": "markdown",
   "metadata": {},
   "source": [
    "## 3.3.2. Some questions\n",
    "\n",
    "Using the provided data ***Question_3.3-data.mat*** as input for your implementation. \n",
    "\n",
    "1. Use M = 2, N = 2 to run your algorithm, report RMSE for the prediction, plot log-likelihood as a function of iteration, plot output $y$ and prediction $\\hat y$ as a function of $x$ in the same plot, and visualize $\\mathbb{E}[z^{(1)}_{ij}|\\mathcal{X}]$, $\\mathbb{E}[z^{(1000)}_{ij}|\\mathcal{X}]$, $i=1:M~~j=1:N$ as heat maps. \n",
    "\n",
    "2. Use M = 5, N = 5 to run your algorithm, report RMSE for the prediction, plot log-likelihood as a function of iteration, plot output $y$ and prediction $\\hat y$ as a function of $x$ in the same plot, and visualize $\\mathbb{E}[z^{(1)}_{ij}|\\mathcal{X}]$, $\\mathbb{E}[z^{(1000)}_{ij}|\\mathcal{X}]$, $i=1:M~~j=1:N$ as heat maps. \n",
    "\n",
    "3. What information could you get form heat maps? i.e. the number of activated expert networks. What's the difference between the two settings in terms of log-likelihood and prediction?\n"
   ]
  },
  {
   "cell_type": "code",
   "execution_count": null,
   "metadata": {
    "collapsed": false
   },
   "outputs": [],
   "source": []
  },
  {
   "cell_type": "code",
   "execution_count": null,
   "metadata": {
    "collapsed": true
   },
   "outputs": [],
   "source": []
  },
  {
   "cell_type": "code",
   "execution_count": null,
   "metadata": {
    "collapsed": false
   },
   "outputs": [],
   "source": []
  }
 ],
 "metadata": {
  "kernelspec": {
   "display_name": "Python 2",
   "language": "python",
   "name": "python2"
  },
  "language_info": {
   "codemirror_mode": {
    "name": "ipython",
    "version": 2
   },
   "file_extension": ".py",
   "mimetype": "text/x-python",
   "name": "python",
   "nbconvert_exporter": "python",
   "pygments_lexer": "ipython2",
   "version": "2.7.12"
  }
 },
 "nbformat": 4,
 "nbformat_minor": 1
}
